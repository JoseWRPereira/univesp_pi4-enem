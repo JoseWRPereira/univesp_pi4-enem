{
 "cells": [
  {
   "cell_type": "markdown",
   "metadata": {},
   "source": [
    "# UniVESP - Análise de dados do ENEM\n"
   ]
  },
  {
   "cell_type": "code",
   "execution_count": 1,
   "metadata": {},
   "outputs": [],
   "source": [
    "import pandas as pd\n",
    "import io\n",
    "from pprint import pprint"
   ]
  },
  {
   "cell_type": "code",
   "execution_count": 2,
   "metadata": {},
   "outputs": [],
   "source": [
    "dados_ori = '/home/josewrpereira/github/univesp_pi4-enem/microdados_enem_2021/DADOS/MICRODADOS_ENEM_2021.csv'"
   ]
  },
  {
   "cell_type": "code",
   "execution_count": null,
   "metadata": {},
   "outputs": [],
   "source": [
    "microdadosEnem = pd.read_csv(dados_ori, encoding='Latin1', sep=';')"
   ]
  },
  {
   "cell_type": "markdown",
   "metadata": {},
   "source": [
    "microdadosEnem"
   ]
  },
  {
   "cell_type": "code",
   "execution_count": null,
   "metadata": {},
   "outputs": [],
   "source": [
    "df = pd.read_csv(dados_ori, encoding='Latin1', sep=';', nrows=10)\n",
    "df.columns"
   ]
  },
  {
   "cell_type": "code",
   "execution_count": null,
   "metadata": {},
   "outputs": [],
   "source": [
    "dados = df[['TP_SEXO']].loc[(df['TP_SEXO']=='F') | (df['TP_SEXO']=='M')].count()\n",
    "dados"
   ]
  },
  {
   "cell_type": "code",
   "execution_count": null,
   "metadata": {},
   "outputs": [],
   "source": [
    "iterator = pd.read_csv(dados_ori, encoding='Latin1', sep=';', chunksize = 1000000)"
   ]
  },
  {
   "cell_type": "code",
   "execution_count": null,
   "metadata": {},
   "outputs": [],
   "source": [
    "array = []\n",
    "c = pd.DataFrame()\n",
    "for d in iterator:\n",
    "    df = pd.DataFrame(d)\n",
    "    array.append(df[['TP_SEXO','SG_UF_PROVA']])"
   ]
  },
  {
   "cell_type": "code",
   "execution_count": null,
   "metadata": {},
   "outputs": [],
   "source": [
    "data = pd.concat(array, ignore_index=True)"
   ]
  },
  {
   "cell_type": "code",
   "execution_count": null,
   "metadata": {},
   "outputs": [],
   "source": [
    "m = data.loc[data['TP_SEXO']=='M', 'TP_SEXO'].count()"
   ]
  },
  {
   "cell_type": "code",
   "execution_count": null,
   "metadata": {},
   "outputs": [],
   "source": [
    "f = data.loc[data['TP_SEXO']=='F', 'TP_SEXO'].count()"
   ]
  },
  {
   "cell_type": "code",
   "execution_count": null,
   "metadata": {},
   "outputs": [],
   "source": [
    "print( m + f )"
   ]
  },
  {
   "cell_type": "code",
   "execution_count": null,
   "metadata": {},
   "outputs": [],
   "source": []
  },
  {
   "cell_type": "code",
   "execution_count": null,
   "metadata": {},
   "outputs": [],
   "source": [
    "# for chunk in df:\n",
    "#     male = df[['TP_SEXO']].loc[df['TP_SEXO']!='M']\n",
    "# pprint(male.)"
   ]
  },
  {
   "cell_type": "code",
   "execution_count": null,
   "metadata": {},
   "outputs": [],
   "source": [
    "# for chunk in df:\n",
    "#     pprint(chunk.shape)"
   ]
  },
  {
   "cell_type": "code",
   "execution_count": null,
   "metadata": {},
   "outputs": [],
   "source": [
    "    #     temp_df = chunk.loc[chunk['SG_UF_PROVA'] == 'CE']\n",
    "\n",
    "# array = []\n",
    "# for chunk in df:\n",
    "#     temp = chunk.loc[chunk['TP_SEXO'] == 'M']\n",
    "# array.append(temp)"
   ]
  },
  {
   "cell_type": "code",
   "execution_count": null,
   "metadata": {},
   "outputs": [],
   "source": [
    "# data = pd.concat(array_df, ignore_index=True)"
   ]
  },
  {
   "cell_type": "code",
   "execution_count": null,
   "metadata": {},
   "outputs": [],
   "source": [
    "# data"
   ]
  }
 ],
 "metadata": {
  "kernelspec": {
   "display_name": "pi4-venv",
   "language": "python",
   "name": "pi4-venv"
  },
  "language_info": {
   "codemirror_mode": {
    "name": "ipython",
    "version": 3
   },
   "file_extension": ".py",
   "mimetype": "text/x-python",
   "name": "python",
   "nbconvert_exporter": "python",
   "pygments_lexer": "ipython3",
   "version": "3.11.2"
  },
  "vscode": {
   "interpreter": {
    "hash": "74e90efc6263a81cd94d61103748110a8cf521722ed9875a44f4e0ff973f79e6"
   }
  }
 },
 "nbformat": 4,
 "nbformat_minor": 4
}
